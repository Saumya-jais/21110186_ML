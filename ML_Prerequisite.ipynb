{
 "cells": [
  {
   "cell_type": "markdown",
   "id": "e4099afd",
   "metadata": {},
   "source": [
    "Question 1 : For a matrix multiplication between a (n, k) and (k, m) matrix, the product matrix is of size(n,m). To compute this, there will be n rows of the first matrix that is to be computed with m columns of the second matrix each. So total computations will be nm. Also while computing element for the ith row and jth column, there is k multiplications and (k-1) additions. Hence in total there is (mnk) multiplications and (mn*(k-1)) additions."
   ]
  },
  {
   "cell_type": "code",
   "execution_count": 60,
   "id": "fcbe8900",
   "metadata": {},
   "outputs": [
    {
     "name": "stdout",
     "output_type": "stream",
     "text": [
      "Lists matrix multiplication time: 0.008011 seconds\n",
      "NumPy matrix multiplication time: 0.000988 seconds\n"
     ]
    }
   ],
   "source": [
    "#question 2\n",
    "import numpy as np\n",
    "import time\n",
    "\n",
    "def matrix_multiply(m1, m2):\n",
    "    # Check if the matrices are suitable for multiplication\n",
    "    if len(m1[0]) != len(m2):\n",
    "        print(\"Error!\")\n",
    "        return\n",
    "\n",
    "#initialising result matrix with zeros\n",
    "    r_matrix = np.zeros((len(m1), len(m2[0])))\n",
    "\n",
    "    for i in range(len(m1)):\n",
    "        for j in range(len(m2[0])):\n",
    "            for k in range(len(m2)):\n",
    "                r_matrix[i][j] += m1[i][k] * m2[k][j]\n",
    "\n",
    "    return r_matrix\n",
    "\n",
    "def matrix_multiplication_np(mat1, mat2):\n",
    "    return np.dot(mat1, mat2)\n",
    "\n",
    "# Generating random matrices using NumPy\n",
    "n, k, m = 10, 20, 35  # Define dimensions\n",
    "m1 = np.random.rand(n, k)\n",
    "m2 = np.random.rand(k, m)\n",
    "\n",
    "# Converting matrices to lists of lists\n",
    "m1_list = m1.tolist()\n",
    "m2_list = m2.tolist()\n",
    "\n",
    "# list to list matrix multiplication time\n",
    "start_time_list = time.time()\n",
    "r_matrix = matrix_multiply(m1_list, m2_list)\n",
    "end_time_list = time.time()\n",
    "list_duration = end_time_list - start_time_list\n",
    "\n",
    "# NumPy matrix multiplication function time\n",
    "start_time_np = time.time()\n",
    "r_matrix_np = matrix_multiplication_np(m1, m2)\n",
    "end_time_np = time.time()\n",
    "np_duration = end_time_np - start_time_np\n",
    "\n",
    "\n",
    "# print(\"Matrix 1:\")\n",
    "# print(m1)\n",
    "# print(\"\\nMatrix 2:\")\n",
    "# print(m2)\n",
    "# print(\"\\nResult of matrix multiplication:\")\n",
    "# print(r_matrix)\n",
    "# print(\"\\nResult of matrix multiplication using numpy:\")\n",
    "# print(r_matrix_np)\n",
    "print(f\"Lists matrix multiplication time: {list_duration:.6f} seconds\")\n",
    "print(f\"NumPy matrix multiplication time: {np_duration:.6f} seconds\")\n"
   ]
  },
  {
   "cell_type": "markdown",
   "id": "2299d8ba",
   "metadata": {},
   "source": [
    "#question 3 #Finding the highest element in a list requires one pass of the array. Finding the second highest element requires 2 passes of the the array. Using this method, what is the time complexity of finding the median of the array? It will be n*O(n) where n is total elements in array and if we have to find the kth highest element. The Time complexity = k O(n). If n is odd, we need to find the ((n/2)+1)th largest element. If n is even, we has to find the average of (n/2)th element and (n/2+1)th element. So overall O(n^2).\n",
    "\n",
    "#Better Approach First we can sort the array using quicksort in O(nlogn) time complexity, then we can find the median in constant time based on whether the 'n' is odd or even."
   ]
  },
  {
   "cell_type": "code",
   "execution_count": 64,
   "id": "2ea05a32",
   "metadata": {},
   "outputs": [
    {
     "name": "stdout",
     "output_type": "stream",
     "text": [
      "Sorted Array: [1, 1, 2, 3, 3, 4, 5, 5, 5, 5, 6, 9]\n",
      "Length of Array: 12\n",
      "Median of Array: 4.5\n"
     ]
    }
   ],
   "source": [
    "def quicksort(arr):\n",
    "    if len(arr) <= 1:\n",
    "        return arr\n",
    "    pivot = arr[len(arr) // 2]\n",
    "    left = [x for x in arr if x < pivot]\n",
    "    middle = [x for x in arr if x == pivot]\n",
    "    right = [x for x in arr if x > pivot]\n",
    "    return quicksort(left) + middle + quicksort(right)\n",
    "\n",
    "def median(sorted_array):\n",
    "    n = len(sorted_array)\n",
    "    if n % 2 == 1:\n",
    "        return sorted_array[n // 2]\n",
    "    else:\n",
    "        mid1 = sorted_array[(n // 2) - 1]\n",
    "        mid2 = sorted_array[n // 2]\n",
    "        return (mid1 + mid2) / 2\n",
    "\n",
    "given_array = [3, 1, 4, 1, 5, 9, 2, 6, 5, 3, 5,5]\n",
    "sorted_array = quicksort(given_array)\n",
    "\n",
    "print(\"Sorted Array:\", sorted_array)\n",
    "\n",
    "length = len(sorted_array)\n",
    "print(\"Length of Array:\", length)\n",
    "\n",
    "median = median(sorted_array)\n",
    "print(\"Median of Array:\", median)\n",
    "\n",
    "           \n"
   ]
  },
  {
   "cell_type": "markdown",
   "id": "b89e4615",
   "metadata": {},
   "source": [
    "Question 4: Gradient of the following function wrt x and y. $$f(x,y) = x^{2}y + y^{3} \\sin(x) Solution: \\bigtriangledown f(x,y) = (\\delta f / \\delta x, \\delta f / \\delta y) = (2xy + y^{3} \\cos(x) , x^{2} + 3y^{2} \\sin(x))$$"
   ]
  },
  {
   "cell_type": "code",
   "execution_count": 50,
   "id": "1ca2778b",
   "metadata": {},
   "outputs": [
    {
     "name": "stdout",
     "output_type": "stream",
     "text": [
      "Requirement already satisfied: jax in c:\\data_science_python\\lib\\site-packages (0.4.23)\n",
      "Requirement already satisfied: jaxlib in c:\\data_science_python\\lib\\site-packages (0.4.23)\n",
      "Requirement already satisfied: importlib-metadata>=4.6 in c:\\data_science_python\\lib\\site-packages (from jax) (4.11.3)\n",
      "Requirement already satisfied: scipy>=1.9 in c:\\data_science_python\\lib\\site-packages (from jax) (1.11.4)\n",
      "Requirement already satisfied: ml-dtypes>=0.2.0 in c:\\data_science_python\\lib\\site-packages (from jax) (0.3.2)\n",
      "Requirement already satisfied: numpy>=1.22 in c:\\data_science_python\\lib\\site-packages (from jax) (1.26.3)\n",
      "Requirement already satisfied: opt-einsum in c:\\data_science_python\\lib\\site-packages (from jax) (3.3.0)\n",
      "Requirement already satisfied: zipp>=0.5 in c:\\data_science_python\\lib\\site-packages (from importlib-metadata>=4.6->jax) (3.7.0)\n"
     ]
    },
    {
     "ename": "RuntimeError",
     "evalue": "generator raised StopIteration",
     "output_type": "error",
     "traceback": [
      "\u001b[1;31m---------------------------------------------------------------------------\u001b[0m",
      "\u001b[1;31mStopIteration\u001b[0m                             Traceback (most recent call last)",
      "File \u001b[1;32mC:\\Data_Science_Python\\lib\\site-packages\\jax\\_src\\api_util.py:304\u001b[0m, in \u001b[0;36m_argnums_partial\u001b[1;34m(dyn_argnums, fixed_args, *dyn_args, **kwargs)\u001b[0m\n\u001b[0;32m    303\u001b[0m fixed_args_ \u001b[38;5;241m=\u001b[39m \u001b[38;5;28miter\u001b[39m(fixed_args)\n\u001b[1;32m--> 304\u001b[0m args \u001b[38;5;241m=\u001b[39m [\u001b[38;5;28mnext\u001b[39m(fixed_args_)\u001b[38;5;241m.\u001b[39mval \u001b[38;5;28;01mif\u001b[39;00m x \u001b[38;5;129;01mis\u001b[39;00m sentinel \u001b[38;5;28;01melse\u001b[39;00m x \u001b[38;5;28;01mfor\u001b[39;00m x \u001b[38;5;129;01min\u001b[39;00m args]\n\u001b[0;32m    305\u001b[0m \u001b[38;5;28;01massert\u001b[39;00m \u001b[38;5;28mnext\u001b[39m(fixed_args_, sentinel) \u001b[38;5;129;01mis\u001b[39;00m sentinel\n",
      "File \u001b[1;32mC:\\Data_Science_Python\\lib\\site-packages\\jax\\_src\\api_util.py:304\u001b[0m, in \u001b[0;36m<listcomp>\u001b[1;34m(.0)\u001b[0m\n\u001b[0;32m    303\u001b[0m fixed_args_ \u001b[38;5;241m=\u001b[39m \u001b[38;5;28miter\u001b[39m(fixed_args)\n\u001b[1;32m--> 304\u001b[0m args \u001b[38;5;241m=\u001b[39m [\u001b[38;5;28;43mnext\u001b[39;49m\u001b[43m(\u001b[49m\u001b[43mfixed_args_\u001b[49m\u001b[43m)\u001b[49m\u001b[38;5;241m.\u001b[39mval \u001b[38;5;28;01mif\u001b[39;00m x \u001b[38;5;129;01mis\u001b[39;00m sentinel \u001b[38;5;28;01melse\u001b[39;00m x \u001b[38;5;28;01mfor\u001b[39;00m x \u001b[38;5;129;01min\u001b[39;00m args]\n\u001b[0;32m    305\u001b[0m \u001b[38;5;28;01massert\u001b[39;00m \u001b[38;5;28mnext\u001b[39m(fixed_args_, sentinel) \u001b[38;5;129;01mis\u001b[39;00m sentinel\n",
      "\u001b[1;31mStopIteration\u001b[0m: ",
      "\nThe above exception was the direct cause of the following exception:\n",
      "\u001b[1;31mRuntimeError\u001b[0m                              Traceback (most recent call last)",
      "Input \u001b[1;32mIn [50]\u001b[0m, in \u001b[0;36m<cell line: 17>\u001b[1;34m()\u001b[0m\n\u001b[0;32m     14\u001b[0m random_y \u001b[38;5;241m=\u001b[39m \u001b[38;5;241m1.0\u001b[39m\n\u001b[0;32m     16\u001b[0m \u001b[38;5;66;03m# Evaluate the gradient using JAX\u001b[39;00m\n\u001b[1;32m---> 17\u001b[0m jax_grad \u001b[38;5;241m=\u001b[39m \u001b[43mgradient_f\u001b[49m\u001b[43m(\u001b[49m\u001b[43mrandom_x\u001b[49m\u001b[43m,\u001b[49m\u001b[43m \u001b[49m\u001b[43mrandom_y\u001b[49m\u001b[43m)\u001b[49m\n\u001b[0;32m     19\u001b[0m \u001b[38;5;66;03m# Analytical gradient   \u001b[39;00m\n\u001b[0;32m     20\u001b[0m \u001b[38;5;28;01mdef\u001b[39;00m \u001b[38;5;21manalytical_gradient\u001b[39m(x, y):\n",
      "    \u001b[1;31m[... skipping hidden 9 frame]\u001b[0m\n",
      "File \u001b[1;32mC:\\Data_Science_Python\\lib\\site-packages\\jax\\_src\\linear_util.py:186\u001b[0m, in \u001b[0;36mWrappedFun.call_wrapped\u001b[1;34m(self, *args, **kwargs)\u001b[0m\n\u001b[0;32m    184\u001b[0m \u001b[38;5;28;01mfor\u001b[39;00m (gen, gen_static_args), out_store \u001b[38;5;129;01min\u001b[39;00m \u001b[38;5;28mzip\u001b[39m(\u001b[38;5;28mself\u001b[39m\u001b[38;5;241m.\u001b[39mtransforms, \u001b[38;5;28mself\u001b[39m\u001b[38;5;241m.\u001b[39mstores):\n\u001b[0;32m    185\u001b[0m   gen \u001b[38;5;241m=\u001b[39m gen(\u001b[38;5;241m*\u001b[39m(gen_static_args \u001b[38;5;241m+\u001b[39m \u001b[38;5;28mtuple\u001b[39m(args)), \u001b[38;5;241m*\u001b[39m\u001b[38;5;241m*\u001b[39mkwargs)\n\u001b[1;32m--> 186\u001b[0m   args, kwargs \u001b[38;5;241m=\u001b[39m \u001b[38;5;28;43mnext\u001b[39;49m\u001b[43m(\u001b[49m\u001b[43mgen\u001b[49m\u001b[43m)\u001b[49m\n\u001b[0;32m    187\u001b[0m   stack\u001b[38;5;241m.\u001b[39mappend((gen, out_store))\n\u001b[0;32m    188\u001b[0m gen \u001b[38;5;241m=\u001b[39m gen_static_args \u001b[38;5;241m=\u001b[39m out_store \u001b[38;5;241m=\u001b[39m \u001b[38;5;28;01mNone\u001b[39;00m\n",
      "\u001b[1;31mRuntimeError\u001b[0m: generator raised StopIteration"
     ]
    }
   ],
   "source": [
    "#question 5\n",
    "!pip install jax jaxlib         \n",
    "import jax\n",
    "import jax.numpy as jnp  \n",
    "\n",
    "def f(x,y):\n",
    "    return x**2 * y + y**3 * jnp.sin(x)\n",
    "\n",
    "# gradient function of f(x,y) at value(1,1)\n",
    "gradient_f = jax.grad(f, argnums = (0, 0))\n",
    "\n",
    "# random value\n",
    "random_x = 1.5\n",
    "random_y = 1.0\n",
    "\n",
    "# Evaluate the gradient using JAX\n",
    "jax_grad = gradient_f(random_x, random_y)\n",
    "\n",
    "# Analytical gradient   \n",
    "def analytical_gradient(x, y):\n",
    "    f_x = 2 * x * y + y**3 * jnp.cos(x)\n",
    "    f_y = x**2 + 3 * y**2 * jnp.sin(x)\n",
    "    return f_x,f_y\n",
    "\n",
    "# Evaluate the analytical gradient\n",
    "analytical_gradient_result = analytical_gradient(random_x, random_y)\n",
    "\n",
    "\n",
    "print(\"\\nJAX Gradient:\")\n",
    "print(\"df/dx =\", jax_gradient[0])\n",
    "print(\"df/dy =\", jax_gradient[1])\n",
    "\n",
    "print(\"\\nAnalytical Gradient:\")\n",
    "print(\"df/dx =\", analytical_gradient_result[0])\n",
    "print(\"df/dy =\", analytical_gradient_result[1])\n"
   ]
  },
  {
   "cell_type": "code",
   "execution_count": 55,
   "id": "83a27776",
   "metadata": {},
   "outputs": [
    {
     "name": "stdout",
     "output_type": "stream",
     "text": [
      "Analytical Gradient:\n",
      "derivative wrt x = 2*x*y + y**3*cos(x)\n",
      "deriative wrt y = x**2 + 3*y**2*sin(x)\n"
     ]
    }
   ],
   "source": [
    "#question 6\n",
    "import sympy as sp\n",
    "\n",
    "x, y = sp.symbols('x y')\n",
    "\n",
    "# function f(x, y)\n",
    "f = x**2 * y + y**3 * sp.sin(x)\n",
    "\n",
    "# gradient\n",
    "grad_f_x = sp.diff(f, x)\n",
    "grad_f_y = sp.diff(f, y)\n",
    "\n",
    "# \n",
    "print(\"Analytical Gradient:\")\n",
    "print(\"derivative wrt x =\", grad_f_x)\n",
    "print(\"deriative wrt y =\", grad_f_y)\n",
    "\n",
    "# results show we received the same gradient\n"
   ]
  },
  {
   "cell_type": "code",
   "execution_count": 53,
   "id": "d49ef0aa",
   "metadata": {},
   "outputs": [
    {
     "name": "stdout",
     "output_type": "stream",
     "text": [
      "Name: A, English Marks: 70\n"
     ]
    }
   ],
   "source": [
    "#question 7\n",
    "students_data = {\n",
    "    2022: {\n",
    "        'Branch 1': {\n",
    "            'Roll Number': 202201,\n",
    "            'Name': 'A',\n",
    "            'Marks': {\n",
    "                'Maths': 100,\n",
    "                'English': 70,\n",
    "                'Science': 85\n",
    "            }\n",
    "        },\n",
    "        'Branch 2': {\n",
    "            'Roll Number': 202203,\n",
    "            'Name': 'C',\n",
    "            'Marks': {\n",
    "                'Maths': 90,\n",
    "                'English': 60,\n",
    "                'Science': 55\n",
    "            }\n",
    "        }\n",
    "    },\n",
    "    2023: {\n",
    "        'Branch 1': {\n",
    "            'Roll Number': 202301,\n",
    "            'Name': 'D',\n",
    "            'Marks': {\n",
    "                'Maths': 100,\n",
    "                'English': 70,\n",
    "                'Science': 85\n",
    "            }\n",
    "        },\n",
    "        'Branch 2': {\n",
    "            'Roll Number': 202302,\n",
    "            'Name': 'E',\n",
    "            'Marks': {\n",
    "                'Maths': 100,\n",
    "                'English': 70,\n",
    "                'Science': 85\n",
    "            }\n",
    "        }\n",
    "    },\n",
    "    2024: {\n",
    "        'Branch 1': {\n",
    "            'Roll Number': 202401,\n",
    "            'Name': 'F',\n",
    "            'Marks': {\n",
    "                'Maths': 100,\n",
    "                'English': 70,\n",
    "                'Science': 85\n",
    "            }\n",
    "        },\n",
    "        'Branch 2': {\n",
    "            'Roll Number': 202402,\n",
    "            'Name': 'G',\n",
    "            'Marks': {\n",
    "                'Maths': 100,\n",
    "                'English': 70,\n",
    "                'Science': 85\n",
    "            }\n",
    "        }\n",
    "    },\n",
    "    2025: {\n",
    "        'Branch 1': {\n",
    "            'Roll Number': 202501,\n",
    "            'Name': 'H',\n",
    "            'Marks': {\n",
    "                'Maths': 100,\n",
    "                'English': 70,\n",
    "                'Science': 85\n",
    "            }\n",
    "        },\n",
    "        'Branch 2': {\n",
    "            'Roll Number': 202502,\n",
    "            'Name': 'I',\n",
    "            'Marks': {\n",
    "                'Maths': 100,\n",
    "                'English': 70,\n",
    "                'Science': 85\n",
    "            }\n",
    "        }\n",
    "    }\n",
    "}\n",
    "\n",
    "roll_number = students_data[2022]['Branch 1']['Roll Number']\n",
    "name = students_data[2022]['Branch 1']['Name']\n",
    "english_marks = students_data[2022]['Branch 1']['Marks']['English']\n",
    "\n",
    "# Displaying data for the example student\n",
    "print(f\"Name: {name}, English Marks: {english_marks}\")\n"
   ]
  },
  {
   "cell_type": "code",
   "execution_count": 54,
   "id": "1f7b1023",
   "metadata": {},
   "outputs": [
    {
     "name": "stdout",
     "output_type": "stream",
     "text": [
      "Name: A, English Marks: 70\n"
     ]
    }
   ],
   "source": [
    "#question 8\n",
    "class Student:\n",
    "    def __init__(self, roll_number, name, marks):\n",
    "        self.roll_number = roll_number\n",
    "        self.name = name\n",
    "        self.marks = marks\n",
    "\n",
    "\n",
    "class Branch:\n",
    "    def __init__(self, name, students):\n",
    "        self.name = name\n",
    "        self.students = students\n",
    "\n",
    "\n",
    "class Year:\n",
    "    def __init__(self, year, branches):\n",
    "        self.year = year\n",
    "        self.branches = branches\n",
    "\n",
    "\n",
    "# Students\n",
    "student1 = Student(202201, 'A', {'Maths': 100, 'English': 70, 'Science': 85})\n",
    "student2 = Student(202202, 'B', {'Maths': 90, 'English': 60, 'Science': 55})\n",
    "student3 = Student(202301, 'C', {'Maths': 70, 'English': 80, 'Science': 95})\n",
    "student4 = Student(202302, 'D', {'Maths': 86, 'English': 40, 'Science': 85})\n",
    "student5 = Student(202401, 'E', {'Maths': 10, 'English': 50, 'Science': 75})\n",
    "student6 = Student(202402, 'F', {'Maths': 50, 'English': 20, 'Science': 35})\n",
    "student7 = Student(202501, 'G', {'Maths': 94, 'English': 90, 'Science': 45})\n",
    "student8 = Student(202502, 'H', {'Maths': 72, 'English': 40, 'Science': 65})\n",
    "\n",
    "#Branches\n",
    "branch1 = Branch('Branch 1', [student1, student3, student5, student7])\n",
    "branch2 = Branch('Branch 2', [student2, student4, student6, student8])\n",
    "\n",
    "# Years\n",
    "year_2022 = Year(2022, [branch1, branch2])\n",
    "year_2023 = Year(2023, [branch1, branch2])\n",
    "year_2024 = Year(2024, [branch1, branch2])\n",
    "year_2025 = Year(2025, [branch1, branch2])\n",
    "\n",
    "# database\n",
    "database = [year_2022, year_2023, year_2024, year_2025]\n",
    "\n",
    "stud = database[0].branches[0].students[0]\n",
    "print(f\"Name: {stud.name}, English Marks: {stud.marks['English']}\")\n"
   ]
  },
  {
   "cell_type": "code",
   "execution_count": 43,
   "id": "2b297872",
   "metadata": {},
   "outputs": [
    {
     "data": {
      "image/png": "[encoded data removed]",
      "text/plain": [
       "<Figure size 432x288 with 1 Axes>"
      ]
     },
     "metadata": {
      "needs_background": "light"
     },
     "output_type": "display_data"
    },
    {
     "data": {
      "image/png": "[encoded data removed]",
      "text/plain": [
       "<Figure size 432x288 with 1 Axes>"
      ]
     },
     "metadata": {
      "needs_background": "light"
     },
     "output_type": "display_data"
    },
    {
     "data": {
      "image/png": "[encoded data removed]",
      "text/plain": [
       "<Figure size 432x288 with 1 Axes>"
      ]
     },
     "metadata": {
      "needs_background": "light"
     },
     "output_type": "display_data"
    },
    {
     "data": {
      "image/png": "[encoded data removed]",
      "text/plain": [
       "<Figure size 432x288 with 1 Axes>"
      ]
     },
     "metadata": {
      "needs_background": "light"
     },
     "output_type": "display_data"
    },
    {
     "data": {
      "image/png": "[encoded data removed]",
      "text/plain": [
       "<Figure size 432x288 with 1 Axes>"
      ]
     },
     "metadata": {
      "needs_background": "light"
     },
     "output_type": "display_data"
    },
    {
     "data": {
      "image/png": "[encoded data removed]",
      "text/plain": [
       "<Figure size 432x288 with 1 Axes>"
      ]
     },
     "metadata": {
      "needs_background": "light"
     },
     "output_type": "display_data"
    },
    {
     "data": {
      "image/png": "[encoded data removed]",
      "text/plain": [
       "<Figure size 432x288 with 1 Axes>"
      ]
     },
     "metadata": {
      "needs_background": "light"
     },
     "output_type": "display_data"
    }
   ],
   "source": [
    "#question 9\n",
    "import matplotlib.pyplot as plt\n",
    "import numpy as np\n",
    "import math\n",
    "\n",
    "# generate values in range of 0.5 to 100.0 in steps of 0.5\n",
    "x1 = np.arange(0.5, 100.0, 0.5)\n",
    "\n",
    "#generated function\n",
    "y1 = x1\n",
    "y2 = x1**2\n",
    "y3 = (x1**3)/100\n",
    "y4 = np.sin(x1)\n",
    "y5 = np.sin(x1)/x1\n",
    "y6 = np.log(x1)\n",
    "y7 = np.exp(x1)\n",
    "\n",
    "# Plot 1\n",
    "plt.plot(x1, y1, label='y = x')\n",
    "plt.xlabel('x')\n",
    "plt.ylabel('y')\n",
    "plt.title('Graph of y = x')\n",
    "plt.show()\n",
    "\n",
    "#PLot 2\n",
    "plt.plot(x1, y2, label='y = x^2')\n",
    "plt.xlabel('x')\n",
    "plt.ylabel('y')\n",
    "plt.title('Graph of y = x^2')\n",
    "plt.show()\n",
    "\n",
    "#Plot 3\n",
    "plt.plot(x1, y3, label='y = x^3/100')\n",
    "plt.xlabel('x')\n",
    "plt.ylabel('y')\n",
    "plt.title('Graph of y = x^3/100')\n",
    "plt.show()\n",
    "\n",
    "#plot 4\n",
    "plt.plot(x1, y4, label='y = sin(x)')\n",
    "plt.xlabel('x')\n",
    "plt.ylabel('y')\n",
    "plt.title('Graph of y = sin(x)')\n",
    "plt.show()\n",
    "\n",
    "#plot 5\n",
    "plt.plot(x1, y5, label='y = sin(x)/x')\n",
    "plt.xlabel('x')\n",
    "plt.ylabel('y')\n",
    "plt.title('Graph of y = sin(x)/x')\n",
    "plt.show()\n",
    "\n",
    "#plot 6\n",
    "plt.plot(x1, y6, label='y = log(x)')\n",
    "plt.xlabel('x')\n",
    "plt.ylabel('y')\n",
    "plt.title('Graph of y = log(x)')\n",
    "plt.show()\n",
    "\n",
    "#plot 7\n",
    "plt.plot(x1, y7, label='y = exp(x)')\n",
    "plt.xlabel('x')\n",
    "plt.ylabel('y')\n",
    "plt.title('Graph of y = exp(x)')\n",
    "plt.show()\n",
    "\n",
    "\n",
    "\n"
   ]
  },
  {
   "cell_type": "code",
   "execution_count": 46,
   "id": "6af1c77e",
   "metadata": {},
   "outputs": [
    {
     "name": "stdout",
     "output_type": "stream",
     "text": [
      "DataFrame\n",
      "           a         b         c         d         e\n",
      "0   1.906458  1.907079  1.758793  1.966471  1.179266\n",
      "1   1.777128  1.013867  1.163138  1.935162  1.938257\n",
      "2   1.667986  1.121383  1.999905  1.083168  1.421790\n",
      "3   1.848872  1.644648  1.020578  1.252182  1.761830\n",
      "4   1.978376  1.813084  1.828553  1.922152  1.684623\n",
      "5   1.792943  1.569246  1.343386  1.809640  1.784931\n",
      "6   1.151187  1.827711  1.405075  1.796283  1.279827\n",
      "7   1.139755  1.287393  1.037698  1.186772  1.897333\n",
      "8   1.114520  1.874988  1.080320  1.906880  1.183277\n",
      "9   1.715051  1.119427  1.198613  1.273012  1.247873\n",
      "10  1.450004  1.487378  1.329781  1.997829  1.862086\n",
      "11  1.225292  1.865202  1.017509  1.140076  1.779957\n",
      "12  1.957453  1.025819  1.623986  1.739148  1.523293\n",
      "13  1.273754  1.256674  1.099822  1.286338  1.058778\n",
      "14  1.679438  1.374746  1.273738  1.082291  1.980059\n",
      "15  1.232910  1.391862  1.256075  1.954807  1.898333\n",
      "16  1.754377  1.414525  1.473383  1.804196  1.179435\n",
      "17  1.007439  1.031016  1.991780  1.615141  1.414141\n",
      "18  1.791132  1.001054  1.539672  1.663964  1.758766\n",
      "19  1.055924  1.383807  1.558851  1.321261  1.796982\n",
      "\n",
      "Column with highest standard deviation: d\n",
      "Lowest mean row: 13\n",
      "DataFrame with new columns:\n",
      "           a         b         c         d         e         f    g\n",
      "0   1.906458  1.907079  1.758793  1.966471  1.179266  8.718065  GT8\n",
      "1   1.777128  1.013867  1.163138  1.935162  1.938257  7.827551  LT8\n",
      "2   1.667986  1.121383  1.999905  1.083168  1.421790  7.294232  LT8\n",
      "3   1.848872  1.644648  1.020578  1.252182  1.761830  7.528110  LT8\n",
      "4   1.978376  1.813084  1.828553  1.922152  1.684623  9.226787  GT8\n",
      "5   1.792943  1.569246  1.343386  1.809640  1.784931  8.300147  GT8\n",
      "6   1.151187  1.827711  1.405075  1.796283  1.279827  7.460083  LT8\n",
      "7   1.139755  1.287393  1.037698  1.186772  1.897333  6.548952  LT8\n",
      "8   1.114520  1.874988  1.080320  1.906880  1.183277  7.159986  LT8\n",
      "9   1.715051  1.119427  1.198613  1.273012  1.247873  6.553975  LT8\n",
      "10  1.450004  1.487378  1.329781  1.997829  1.862086  8.127078  GT8\n",
      "11  1.225292  1.865202  1.017509  1.140076  1.779957  7.028035  LT8\n",
      "12  1.957453  1.025819  1.623986  1.739148  1.523293  7.869698  LT8\n",
      "13  1.273754  1.256674  1.099822  1.286338  1.058778  5.975365  LT8\n",
      "14  1.679438  1.374746  1.273738  1.082291  1.980059  7.390273  LT8\n",
      "15  1.232910  1.391862  1.256075  1.954807  1.898333  7.733987  LT8\n",
      "16  1.754377  1.414525  1.473383  1.804196  1.179435  7.625916  LT8\n",
      "17  1.007439  1.031016  1.991780  1.615141  1.414141  7.059517  LT8\n",
      "18  1.791132  1.001054  1.539672  1.663964  1.758766  7.754589  LT8\n",
      "19  1.055924  1.383807  1.558851  1.321261  1.796982  7.116824  LT8\n",
      "\n",
      "Number of rows where the value in column 'g' is 'LT8': 16\n",
      "Standard deviation of column 'f' for 'LT8': 0.5293104581047666\n",
      "Standard deviation of column 'f' for 'GT8': 0.48995706288574276\n"
     ]
    }
   ],
   "source": [
    "#question 10\n",
    "import numpy as np\n",
    "import pandas as pd\n",
    "\n",
    "# random 20X5 matrix\n",
    "random_matrix = np.random.uniform(1, 2, size=(20, 5))\n",
    "\n",
    "# Create a DataFrame with the matrix\n",
    "df = pd.DataFrame(random_matrix, columns=['a', 'b', 'c', 'd', 'e'])\n",
    "\n",
    "# highest standard deviation column\n",
    "max_std = df.std().idxmax()\n",
    "\n",
    "# row with lowest mean\n",
    "low_mean = df.mean(axis=1).idxmin()\n",
    "\n",
    "print(\"DataFrame\")\n",
    "print(df)\n",
    "\n",
    "\n",
    "print(\"\\nHighest standard deviation column:\", max_std)\n",
    "print(\"Lowest mean row:\", low_mean)\n",
    "\n",
    "# question 11\n",
    "\n",
    "# adding column f\n",
    "df['f'] = df[['a', 'b', 'c', 'd', 'e']].sum(axis=1)\n",
    "\n",
    "# Adding column g\n",
    "df['g'] = np.where(df['f'] < 8, 'LT8', 'GT8')\n",
    "\n",
    "# Finding number of rows\n",
    "num_lt8 = df[df['g'] == 'LT8'].shape[0]\n",
    "\n",
    "# Find the standard deviation \n",
    "std_dev_lt8 = df[df['g'] == 'LT8']['f'].std()\n",
    "std_dev_gt8 = df[df['g'] == 'GT8']['f'].std()\n",
    "\n",
    "print(\"New dataframe:\")\n",
    "print(df)\n",
    "\n",
    "\n",
    "print(\"\\nNumber of rows where the value in column 'g' is 'LT8':\", num_lt8)\n",
    "print(\"Standard deviation of column 'f' for 'LT8':\", std_dev_lt8)\n",
    "print(\"Standard deviation of column 'f' for 'GT8':\", std_dev_gt8)\n",
    "\n"
   ]
  },
  {
   "cell_type": "code",
   "execution_count": 48,
   "id": "93033a5b",
   "metadata": {},
   "outputs": [
    {
     "name": "stdout",
     "output_type": "stream",
     "text": [
      "Array a: [1 2 3]\n",
      "Array b: [4 5 6]\n",
      "a*b \n",
      "\n",
      "Scalar multiplier: 2\n",
      "Broadcasting multiplication result: [2 4 6]\n",
      "\n",
      " Array c: [[ 1  1  1]\n",
      " [10 20 30]\n",
      " [10 20 30]\n",
      " [10 20 30]]\n",
      "\n",
      " Array d: [90 80 70]\n",
      "c + d \n",
      "\n",
      "Broadcasting addition result: [[ 91  81  71]\n",
      " [100 100 100]\n",
      " [100 100 100]\n",
      " [100 100 100]]\n"
     ]
    }
   ],
   "source": [
    "#question 12\n",
    "#Broadcasting in numpy ensures that arrays with different sizes while doing arithmetic operations, don't get compatibility issues.\n",
    "#For example\n",
    "import numpy as np\n",
    "\n",
    "#arrays\n",
    "a = np.array([1, 2, 3])\n",
    "b = np.array([4, 5, 6])\n",
    "\n",
    "# Broadcasting multiplication\n",
    "scalar_multiplier = 2\n",
    "result1 = a * scalar_multiplier\n",
    "#Here we will se that scalar multiplier '2' is stretched to the size of array 'a' to get muliplied by each element and give the product of the final size.\n",
    "\n",
    "# Broadcasting with a 2D array\n",
    "\n",
    "c = np.array([[ 1,  1,  1],\n",
    "              [10, 20, 30],\n",
    "              [10, 20, 30],\n",
    "              [10, 20, 30]])\n",
    "d = np.array([90, 80, 70])\n",
    "\n",
    "result2 = c + d\n",
    "#Here array d is stretched to be a 2d array of size of array c to facilitate vector addition.\n",
    "\n",
    "print(\"Array a:\", a)\n",
    "print(\"Array b:\", b)\n",
    "print(\"a*b \\n\")\n",
    "print(\"Scalar multiplier:\", scalar_multiplier)\n",
    "print(\"Broadcasting multiplication result:\", result1)\n",
    "\n",
    "print(\"\\n Array c:\", c)\n",
    "print(\"\\n Array d:\", d)\n",
    "print(\"c + d \\n\")\n",
    "print(\"Broadcasting addition result:\", result2)\n",
    "\n"
   ]
  },
  {
   "cell_type": "code",
   "execution_count": 52,
   "id": "ea61aa80",
   "metadata": {},
   "outputs": [
    {
     "name": "stdout",
     "output_type": "stream",
     "text": [
      "Argmin: 3\n",
      "NumPy argmin: 3\n"
     ]
    }
   ],
   "source": [
    "#question 13\n",
    "import numpy as np\n",
    "\n",
    "def compute_argmin(arr):\n",
    "    indexmin = 0\n",
    "    min_value = arr[0]\n",
    "\n",
    "    for i in range(1, arr.size):\n",
    "        if arr[i] < min_value:\n",
    "            min_value = arr[i]\n",
    "            indexmin = i\n",
    "\n",
    "    return indexmin\n",
    "\n",
    "arr = np.array([4, 2, 7, 1, 9, 3])\n",
    "result = compute_argmin(arr)\n",
    "print(\"Argmin:\", result)\n",
    "\n",
    "# Verification\n",
    "numpy_argmin = np.argmin(arr)\n",
    "print(\"NumPy argmin:\", numpy_argmin)\n"
   ]
  },
  {
   "cell_type": "code",
   "execution_count": null,
   "id": "057cc690",
   "metadata": {},
   "outputs": [],
   "source": []
  }
 ],
 "metadata": {
  "kernelspec": {
   "display_name": "Python 3 (ipykernel)",
   "language": "python",
   "name": "python3"
  },
  "language_info": {
   "codemirror_mode": {
    "name": "ipython",
    "version": 3
   },
   "file_extension": ".py",
   "mimetype": "text/x-python",
   "name": "python",
   "nbconvert_exporter": "python",
   "pygments_lexer": "ipython3",
   "version": "3.9.12"
  }
 },
 "nbformat": 4,
 "nbformat_minor": 5
}
